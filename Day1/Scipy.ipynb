{
 "cells": [
  {
   "cell_type": "markdown",
   "metadata": {},
   "source": [
    "## SCIPY\n",
    "- Numpy provoides high-performance multidimensional array\n",
    "- SciPy builds on this, and provides a large number of functions that operate on numpy arrays and are useful for different types of scientific and engineering applications"
   ]
  },
  {
   "cell_type": "code",
   "execution_count": null,
   "metadata": {},
   "outputs": [],
   "source": [
    "from scipy import stats\n",
    "import math"
   ]
  },
  {
   "cell_type": "code",
   "execution_count": null,
   "metadata": {},
   "outputs": [],
   "source": [
    "# Hypothesis testing, import the stats package for calculating the probability\n",
    "import numpy as np\n",
    "import pandas as pd\n",
    "\n",
    "\n",
    "import matplotlib.pyplot as plt\n",
    "import seaborn as sns\n",
    "%matplotlib inline\n",
    "\n",
    "from matplotlib.pylab import rcParams\n",
    "plt.rcParams[\"figure.figsize\"]=(8,4)"
   ]
  },
  {
   "cell_type": "markdown",
   "metadata": {},
   "source": [
    "### Z-Test"
   ]
  },
  {
   "cell_type": "code",
   "execution_count": null,
   "metadata": {},
   "outputs": [],
   "source": [
    "# Null Hypotheis - Mu >= 20, lets compute the test statistics\n",
    "# xbar = 18  # sample mean\n",
    "# mu0  >= 30  # Hypothesized value\n",
    "# sigma = 6  # population standard dev\n",
    "# n = 36       # sample size\n",
    "\n",
    "# From a population with mean=30, sd=6, probability of getting sample mean = 18 with sample size =30\n",
    "\n",
    "# stats.norm.cdf(sample mean, Hypothesized value, sigma/math.sqrt(n))\n",
    "\n",
    "stats.norm.cdf(28, 30, 6/math.sqrt(36)) #\n"
   ]
  },
  {
   "cell_type": "markdown",
   "metadata": {},
   "source": [
    "### Paired T-test "
   ]
  },
  {
   "cell_type": "code",
   "execution_count": null,
   "metadata": {},
   "outputs": [],
   "source": [
    "rack1 = pd.DataFrame({'rack':'rack1', 'sales': np.random.normal( 79, 10, 30).astype(int)})\n",
    "rack2 = pd.DataFrame({'rack':'rack2', 'sales': np.random.normal( 85, 10, 30).astype(int)})\n",
    "rack3 = pd.DataFrame({'rack':'rack3', 'sales': np.random.normal( 90, 10, 30).astype(int)})\n",
    "sales_data = pd.concat([rack1, rack2, rack3])\n",
    "\n",
    "sales_data.head(10)\n"
   ]
  },
  {
   "cell_type": "code",
   "execution_count": null,
   "metadata": {},
   "outputs": [],
   "source": [
    "# Get the average sales for each Rack by using Groupby\n",
    "sales_data.groupby('rack').sales.mean()"
   ]
  },
  {
   "cell_type": "code",
   "execution_count": null,
   "metadata": {},
   "outputs": [],
   "source": [
    "sns.barplot(x='rack', y='sales', data=sales_data, ci=None )"
   ]
  },
  {
   "cell_type": "markdown",
   "metadata": {},
   "source": [
    "#### Paired T-test   ( Rack1 vs Rack2) ,    H0 =>  mu1 = mu2"
   ]
  },
  {
   "cell_type": "code",
   "execution_count": null,
   "metadata": {},
   "outputs": [],
   "source": [
    "rack1_sales = sales_data[sales_data.rack=='rack1'].sales\n",
    "rack2_sales = sales_data[sales_data.rack=='rack2'].sales\n",
    "\n",
    "stats.ttest_ind(rack1_sales, rack2_sales)  # H0 => mu1 = mu2 \n",
    "# # P=0.39 > 0.05, we can not reject the null hypothesis that that both the racks have similar influence on sales"
   ]
  },
  {
   "cell_type": "markdown",
   "metadata": {},
   "source": [
    "#### Paired T-test   ( Rack2 vs Rack3) ,    H0 =>  mu1 = mu2"
   ]
  },
  {
   "cell_type": "code",
   "execution_count": null,
   "metadata": {},
   "outputs": [],
   "source": [
    "rack2_sales = sales_data[sales_data.rack=='rack1'].sales\n",
    "rack3_sales = sales_data[sales_data.rack=='rack3'].sales\n",
    "\n",
    "stats.ttest_ind(rack2_sales, rack3_sales)  # H0 => mu1 = mu2 \n",
    "# # P=0.02 < 0.05, we can reject the null hypothesis that that both the racks have similar influence on sales"
   ]
  },
  {
   "cell_type": "markdown",
   "metadata": {},
   "source": [
    "#### ANOVA Test (Rack1 vs Rack2 vs Rack3),  H0 : mu1 = mu2 = mu3\n",
    "- ANOVA F-Test to test if the differrences among the group means are statisticall significant or it is just due to sampling variablitiy."
   ]
  },
  {
   "cell_type": "code",
   "execution_count": null,
   "metadata": {},
   "outputs": [],
   "source": [
    "rack3_sales.head()"
   ]
  },
  {
   "cell_type": "code",
   "execution_count": null,
   "metadata": {},
   "outputs": [],
   "source": [
    "# Get the average sales for each Rack by using Groupby\n",
    "sales_data.groupby('rack').sales.mean()"
   ]
  },
  {
   "cell_type": "code",
   "execution_count": null,
   "metadata": {},
   "outputs": [],
   "source": [
    "rack3_sales"
   ]
  },
  {
   "cell_type": "code",
   "execution_count": null,
   "metadata": {},
   "outputs": [],
   "source": [
    "stats.f_oneway(rack1_sales, rack2_sales, rack3_sales) # H0 => mu1 = mu2 = mu3\n",
    "# p=0.004 < 0.05, we can reject the null hypothesis that all the racks have similar influence on sales"
   ]
  },
  {
   "cell_type": "code",
   "execution_count": null,
   "metadata": {},
   "outputs": [],
   "source": [
    "# ANOVA F-Test to test if the differrences among the group means are statisticall significant or it is just due to sampling variablitiy.\n",
    "# H0: mu1=mu2=mu3   , F = (Variations among group means) / (Variation within group)\n",
    "\n",
    "import statsmodels.formula.api as smf\n",
    "model = smf.ols(formula='sales ~ rack', data=sales_data)\n",
    "results = model.fit()\n",
    "print(results.summary())  # F Statistics (p-value=.0048 < .05) => we can reject null hypothesis that avg sales are same for each Rack.\n",
    "                          # We can conclude that there is a relationship between categorical var Rack and Demands(product sales)."
   ]
  },
  {
   "cell_type": "markdown",
   "metadata": {},
   "source": [
    "### Chisq test  :  Test of independence (Categorical Variables)"
   ]
  },
  {
   "cell_type": "code",
   "execution_count": null,
   "metadata": {},
   "outputs": [],
   "source": [
    "input_data = pd.read_excel('C:\\\\Users\\\\jp\\\\Desktop\\\\testData\\\\titanic_train.xlsx')\n",
    "\n",
    "# Meta data - https://www.kaggle.com/c/titanic/data\n",
    "# Predict the Survival - complete the analysis of what sorts of people were likely to survived. ( Disaster Survival prediction)"
   ]
  },
  {
   "cell_type": "code",
   "execution_count": null,
   "metadata": {},
   "outputs": [],
   "source": [
    "input_data.head(5)"
   ]
  },
  {
   "cell_type": "code",
   "execution_count": null,
   "metadata": {},
   "outputs": [],
   "source": [
    "input_data.info()"
   ]
  },
  {
   "cell_type": "code",
   "execution_count": null,
   "metadata": {},
   "outputs": [],
   "source": [
    "input_data['Survived'] = input_data['Survived'].astype('object')\n",
    "input_data['Pclass'] = input_data['Pclass'].astype('object')"
   ]
  },
  {
   "cell_type": "markdown",
   "metadata": {},
   "source": [
    "####  Gender vs Survival"
   ]
  },
  {
   "cell_type": "code",
   "execution_count": null,
   "metadata": {},
   "outputs": [],
   "source": [
    "cross_tab_d = pd.crosstab( input_data.Gender, input_data.Survived)\n",
    "cross_tab_d"
   ]
  },
  {
   "cell_type": "code",
   "execution_count": null,
   "metadata": {},
   "outputs": [],
   "source": [
    "sns.countplot(x='Survived', hue='Gender', data=input_data)"
   ]
  },
  {
   "cell_type": "markdown",
   "metadata": {},
   "source": [
    "#### Looks like there is a trend, people did not survived are much more likely to Male"
   ]
  },
  {
   "cell_type": "markdown",
   "metadata": {},
   "source": [
    "- We can run the **Chi-square test** to check if there is a relationship"
   ]
  },
  {
   "cell_type": "code",
   "execution_count": null,
   "metadata": {},
   "outputs": [],
   "source": [
    "chi2, p, ddof, expected = stats.chi2_contingency(cross_tab_d.values) # H0 = gender and Survival capability are independent \n",
    "\n",
    "msg = \"Test Statistic: {}\\np-value: {}\\nDegrees of Freedom: {}\\n\" # p-value < .05 => reject the H0\n",
    "print( msg.format( chi2, p, ddof ) )\n",
    "print( expected )"
   ]
  },
  {
   "cell_type": "markdown",
   "metadata": {},
   "source": [
    "#### Passender Class ( socio-economic status) vs Survival \n",
    "- Pclass -  ( 1 = 1st, 2 = 2nd, 3 = 3rd ) "
   ]
  },
  {
   "cell_type": "code",
   "execution_count": null,
   "metadata": {},
   "outputs": [],
   "source": [
    "cross_tab_d = pd.crosstab( input_data.Pclass, input_data.Survived)\n",
    "cross_tab_d"
   ]
  },
  {
   "cell_type": "code",
   "execution_count": null,
   "metadata": {},
   "outputs": [],
   "source": [
    "sns.countplot(x='Pclass', hue='Survived', data=input_data)"
   ]
  },
  {
   "cell_type": "markdown",
   "metadata": {},
   "source": [
    "#### Looks like there is a trend, the people who did not survived are mostly from the Third class."
   ]
  },
  {
   "cell_type": "code",
   "execution_count": null,
   "metadata": {},
   "outputs": [],
   "source": [
    "chi2, p, ddof, expected = stats.chi2_contingency(cross_tab_d.values) # H0 = gender and Survival capability are independent \n",
    "\n",
    "msg = \"Test Statistic: {}\\np-value: {}\\nDegrees of Freedom: {}\\n\"    # p-value < .05 => reject the H0\n",
    "print( msg.format( chi2, p, ddof ) )\n",
    "print( expected )"
   ]
  },
  {
   "cell_type": "markdown",
   "metadata": {},
   "source": [
    "#### Chi-square test to check if Gennder and working-preference are independent"
   ]
  },
  {
   "cell_type": "code",
   "execution_count": null,
   "metadata": {},
   "outputs": [],
   "source": [
    "df_test = pd.DataFrame({'gend' : ['M','F','M','F','F','F','F','M','F','M', 'F'], 'dept' : ['Fin','Fin','Soft','Fin','Soft','Soft','Soft','Fin','Soft','Fin','Soft']})\n",
    "df_test"
   ]
  },
  {
   "cell_type": "code",
   "execution_count": null,
   "metadata": {},
   "outputs": [],
   "source": [
    "import pandas as pd\n",
    "cross_tab_d = pd.crosstab( df_test.gend, df_test.dept)\n",
    "cross_tab_d"
   ]
  },
  {
   "cell_type": "code",
   "execution_count": null,
   "metadata": {},
   "outputs": [],
   "source": [
    "sns.countplot(x='dept', hue='gend', data=df_test)"
   ]
  },
  {
   "cell_type": "code",
   "execution_count": null,
   "metadata": {},
   "outputs": [],
   "source": [
    "chi2, p, ddof, expected = stats.chi2_contingency(cross_tab_d.values) # H0 = gender and department preference are independent \n",
    "\n",
    "msg = \"Test Statistic: {}\\np-value: {}\\nDegrees of Freedom: {}\\n\" #  p-value > .05 => Can not reject the H0\n",
    "print( msg.format( chi2, p, ddof ) )\n",
    "print( expected )"
   ]
  },
  {
   "cell_type": "markdown",
   "metadata": {},
   "source": [
    "#### Distance Computation using SCIPY"
   ]
  },
  {
   "cell_type": "code",
   "execution_count": null,
   "metadata": {},
   "outputs": [],
   "source": [
    "# Eucleadean Distance\n",
    "from scipy.spatial import distance"
   ]
  },
  {
   "cell_type": "code",
   "execution_count": null,
   "metadata": {},
   "outputs": [],
   "source": [
    "import pandas as pd\n",
    "import numpy as np\n",
    "df1 = pd.DataFrame(np.random.randn(4,3), columns=['a','b','c'], index=['e1','e2','e3','e4'])\n",
    "df1"
   ]
  },
  {
   "cell_type": "code",
   "execution_count": null,
   "metadata": {},
   "outputs": [],
   "source": [
    "# similarity between e1 and e2 using eucleadean distance"
   ]
  },
  {
   "cell_type": "code",
   "execution_count": null,
   "metadata": {},
   "outputs": [],
   "source": [
    "df1.loc['e1']"
   ]
  },
  {
   "cell_type": "code",
   "execution_count": null,
   "metadata": {},
   "outputs": [],
   "source": [
    "distance.euclidean(df1.loc['e1'], df1.loc['e2'])\n",
    "#distance.euclidean(df1.loc['e2'], df1.loc['e3'])"
   ]
  },
  {
   "cell_type": "code",
   "execution_count": null,
   "metadata": {},
   "outputs": [],
   "source": [
    "# calculating the distances \n",
    "from scipy.spatial.distance import pdist, squareform"
   ]
  },
  {
   "cell_type": "code",
   "execution_count": null,
   "metadata": {},
   "outputs": [],
   "source": [
    "distances = pdist(df1.values, metric='euclidean')  \n",
    "distances                      #  The result is a \"flat\" array that consists only of the upper triangle of the distance matrix."
   ]
  },
  {
   "cell_type": "code",
   "execution_count": null,
   "metadata": {},
   "outputs": [],
   "source": [
    "dist_matrix = squareform(distances)\n",
    "dist_matrix"
   ]
  }
 ],
 "metadata": {
  "kernelspec": {
   "display_name": "Python 3",
   "language": "python",
   "name": "python3"
  },
  "language_info": {
   "codemirror_mode": {
    "name": "ipython",
    "version": 3
   },
   "file_extension": ".py",
   "mimetype": "text/x-python",
   "name": "python",
   "nbconvert_exporter": "python",
   "pygments_lexer": "ipython3",
   "version": "3.6.4"
  }
 },
 "nbformat": 4,
 "nbformat_minor": 2
}
