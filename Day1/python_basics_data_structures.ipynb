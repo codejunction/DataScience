{
 "cells": [
  {
   "cell_type": "markdown",
   "metadata": {},
   "source": [
    "# Python basic programing\n",
    "- We will cover the basics first \n",
    "- Then Python scientific **libraries*** Numpy, Scipy, Pandas"
   ]
  },
  {
   "cell_type": "markdown",
   "metadata": {},
   "source": [
    "##### Python has currently two supported versions of Python 2.7 & 3.5+\n",
    "- Ref : https://docs.python.org/3/tutorial/"
   ]
  },
  {
   "cell_type": "code",
   "execution_count": null,
   "metadata": {},
   "outputs": [],
   "source": [
    "import sys\n",
    "print( 'Python : ' , sys.version)\n",
    "\n",
    "# Python details on coding\n",
    "# https://docs.python.org/3.6/library/  - Official documentation of all the python builtin functions and modules"
   ]
  },
  {
   "cell_type": "code",
   "execution_count": null,
   "metadata": {},
   "outputs": [],
   "source": [
    "#pwd()  # present working directory"
   ]
  },
  {
   "cell_type": "code",
   "execution_count": null,
   "metadata": {},
   "outputs": [],
   "source": [
    "# '#' -> it is used for comments (hash key)"
   ]
  },
  {
   "cell_type": "code",
   "execution_count": null,
   "metadata": {},
   "outputs": [],
   "source": [
    "\"\"\"\n",
    "The following multple lines will be commented\n",
    "line1 code\n",
    "line2 code\n",
    "line3 code\n",
    "\n",
    "\"\"\"\n",
    "\n",
    "\"\"\"\n",
    "The following multple lines will be commented\n",
    "line1 code\n",
    "line2 code\n",
    "line3 code\n",
    "\n",
    "\"\"\""
   ]
  },
  {
   "cell_type": "code",
   "execution_count": null,
   "metadata": {},
   "outputs": [],
   "source": [
    "# Python Basics:\n",
    "\n",
    "# Jupyter Shortcuts:\n",
    "\n",
    "# ESC -> will take you to command mode (blue color) where you can navigate the notebook with arrow keys.\n",
    "# Enter -> will take back to edit mode for coding for a given cell.\n",
    "\n",
    "# Command + D + D -> Delete Cell\n",
    "# Command + A -> Insert Above\n",
    "# Command + B -> Insert Below\n",
    "\n",
    "# Command + Y -> Code mode (cell)\n",
    "# Command + M -> Markdown \n",
    "\n",
    "# Command + C -> Copy Cell\n",
    "# Command + X -> Cut Cell\n",
    "\n",
    "# Command + V -> Paste below\n",
    "# Command + Shift + V -> Paste Above\n"
   ]
  },
  {
   "cell_type": "code",
   "execution_count": null,
   "metadata": {},
   "outputs": [],
   "source": [
    "# Command + Shift + M -> Merge Cell\n",
    "# Ctrl + Shift + Minus -> Split cell at cursor\n",
    "\n",
    "# Command + H -> Help the shortcuts\n",
    "# Ctrl + Shift + P -> Help shortcuts list\n",
    "\n",
    "# Command + F -> Find and Replace\n",
    "\n",
    "# Ctrl + Enter -> Run Cell\n",
    "# Alt + Enter  -> Run cell and insert below\n",
    "# Shift + Enter -> Run cell and select next"
   ]
  },
  {
   "cell_type": "markdown",
   "metadata": {},
   "source": [
    "#### Python Variable naming convention"
   ]
  },
  {
   "cell_type": "code",
   "execution_count": null,
   "metadata": {},
   "outputs": [],
   "source": [
    "# Python Variable naming convention\n",
    "# 1 - it can only use letters, numbers and '_' character\n",
    "# 2 - it can't begin with number\n",
    "# 3 - it can be only one word\n",
    "\n",
    "# Example : data_science, dataScience, data-science(wrong )\n",
    "\n",
    "# storing values in the variables by using assignment operator (=)\n",
    "\n",
    "var_1 = 10       ## set a variable in this interpreter session \n",
    "#var-1 = 10 \n",
    "var_1"
   ]
  },
  {
   "cell_type": "code",
   "execution_count": null,
   "metadata": {},
   "outputs": [],
   "source": [
    "var_1        ## entering an expression prints its value  "
   ]
  },
  {
   "cell_type": "code",
   "execution_count": null,
   "metadata": {},
   "outputs": [],
   "source": [
    "print(var_1)   ## Printing the value of var_1"
   ]
  },
  {
   "cell_type": "code",
   "execution_count": null,
   "metadata": {},
   "outputs": [],
   "source": [
    "var_1=10\n",
    "var_2=20\n",
    "var_3 = var_1 + var_2\n",
    "var_3"
   ]
  },
  {
   "cell_type": "code",
   "execution_count": null,
   "metadata": {},
   "outputs": [],
   "source": [
    "var_2 = 'test'  ## assigning the some string values\n",
    "var_2"
   ]
  },
  {
   "cell_type": "code",
   "execution_count": null,
   "metadata": {},
   "outputs": [],
   "source": [
    "len(var_2)  # call the len() function on a string "
   ]
  },
  {
   "cell_type": "code",
   "execution_count": null,
   "metadata": {},
   "outputs": [],
   "source": [
    "# System input-output\n",
    "\n",
    "var_1 = input('Enter the input value : ')  # sys.stdin\n",
    "\n",
    "print('variable var_1 value is  : ', var_1 ) # Printing to sys.stdout"
   ]
  },
  {
   "cell_type": "code",
   "execution_count": null,
   "metadata": {},
   "outputs": [],
   "source": [
    "type(var_1)"
   ]
  },
  {
   "cell_type": "code",
   "execution_count": null,
   "metadata": {},
   "outputs": [],
   "source": [
    "# Exercise : Python addition script to accept two values and return the 75% of sum total and execute using command line."
   ]
  },
  {
   "cell_type": "code",
   "execution_count": null,
   "metadata": {},
   "outputs": [],
   "source": [
    "# Python script execution - Command line , Jupyter notebook interactive Cell execution\n",
    "# test_python.py - command line execution"
   ]
  },
  {
   "cell_type": "markdown",
   "metadata": {},
   "source": [
    "#### Python Common Data Types - Integer, Floating Point, String, Boolean"
   ]
  },
  {
   "cell_type": "code",
   "execution_count": null,
   "metadata": {},
   "outputs": [],
   "source": [
    "# Integer\n",
    "\n",
    "#Integer ( -3, -2 , -1, 0, +1, +2 )\n",
    "a = 3 \n",
    "print(a)\n",
    "print(type(a))"
   ]
  },
  {
   "cell_type": "code",
   "execution_count": null,
   "metadata": {},
   "outputs": [],
   "source": [
    "a = a+3\n",
    "print(a)"
   ]
  },
  {
   "cell_type": "code",
   "execution_count": null,
   "metadata": {},
   "outputs": [],
   "source": [
    "a = 3\n",
    "a +=3  # Addition\n",
    "a"
   ]
  },
  {
   "cell_type": "code",
   "execution_count": null,
   "metadata": {},
   "outputs": [],
   "source": [
    "a=3\n",
    "a *=3  # Multiplication \n",
    "a"
   ]
  },
  {
   "cell_type": "code",
   "execution_count": null,
   "metadata": {},
   "outputs": [],
   "source": [
    "a=3\n",
    "a **=3  # Exponentiation\n",
    "a"
   ]
  },
  {
   "cell_type": "code",
   "execution_count": null,
   "metadata": {},
   "outputs": [],
   "source": [
    "# Floating point number \n",
    "# (-1.5, -1.75, 1.0, +1.5)\n",
    "\n",
    "b = 1.5\n",
    "\n",
    "print(b)\n",
    "print(type(b))"
   ]
  },
  {
   "cell_type": "code",
   "execution_count": null,
   "metadata": {},
   "outputs": [],
   "source": [
    "print(b, b+2, b*2, b**3)"
   ]
  },
  {
   "cell_type": "code",
   "execution_count": null,
   "metadata": {},
   "outputs": [],
   "source": [
    "# Boolean type  - (True or False)\n",
    "\n",
    "d = True\n",
    "\n",
    "print(d)\n",
    "print(type(d))"
   ]
  },
  {
   "cell_type": "code",
   "execution_count": null,
   "metadata": {},
   "outputs": [],
   "source": [
    "# Comparision operators\n",
    "\n",
    "#1 '=='  => equal to\n",
    "# print(49==49)\n",
    "# print(49==50)\n",
    "# print('Hello' == 'Hello')\n",
    "\n",
    "#2 '!=' =>  not equal to\n",
    "print(49!=49)\n",
    "print(49!=50)\n",
    "\n",
    "\n",
    "# #3 '>' => greater than\n",
    "# print(10>8)\n",
    "# print(12>20)"
   ]
  },
  {
   "cell_type": "markdown",
   "metadata": {},
   "source": [
    "#### Data Conversion from one type to another"
   ]
  },
  {
   "cell_type": "code",
   "execution_count": null,
   "metadata": {},
   "outputs": [],
   "source": [
    "# int() function\n",
    "print(int(1.25))\n",
    "print(int('11'))"
   ]
  },
  {
   "cell_type": "code",
   "execution_count": null,
   "metadata": {},
   "outputs": [],
   "source": [
    "# float() function\n",
    "print(float(10))\n",
    "print(float('1'))\n"
   ]
  },
  {
   "cell_type": "code",
   "execution_count": null,
   "metadata": {},
   "outputs": [],
   "source": [
    "# str() function \n",
    "a = 29\n",
    "print(a)\n",
    "\n",
    "a = str(a)\n",
    "a"
   ]
  },
  {
   "cell_type": "markdown",
   "metadata": {},
   "source": [
    "#### Conditional Operator"
   ]
  },
  {
   "cell_type": "code",
   "execution_count": null,
   "metadata": {},
   "outputs": [],
   "source": [
    "x=2\n",
    "\n",
    "if(x==3):\n",
    "    print(' input value is 3 ')\n",
    "else:\n",
    "    print('input value is not 3 ')\n",
    "    "
   ]
  },
  {
   "cell_type": "code",
   "execution_count": null,
   "metadata": {},
   "outputs": [],
   "source": [
    "# Exercise: if logic to identify the sign ( -ve, +ve, Zero) of a number"
   ]
  },
  {
   "cell_type": "code",
   "execution_count": null,
   "metadata": {},
   "outputs": [],
   "source": [
    "# For Loop - is used to repeating a section of code n times. \n",
    "\n",
    "# For loop and range - statement iterates over the members of a sequence in order, executing the block each time\n",
    "\n",
    "seq = [1, 2, 3, 4, 5]\n",
    "\n",
    "for i in seq:\n",
    "    print ( 'value ', i)\n",
    "    \n",
    "#    print('this is test (' + str(i) + ')') "
   ]
  },
  {
   "cell_type": "code",
   "execution_count": null,
   "metadata": {},
   "outputs": [],
   "source": [
    "list(range(0, 10))        # Sequence list incremented by 1 (default)\n",
    "\n",
    "#list(range(0,100, 5))  # Sequence list incremented by 4"
   ]
  },
  {
   "cell_type": "code",
   "execution_count": null,
   "metadata": {},
   "outputs": [],
   "source": [
    "# iterates over the members of a sequence in a range,\n",
    "for i in range(0, 5):\n",
    "    print ( 'value ', i)   "
   ]
  },
  {
   "cell_type": "code",
   "execution_count": null,
   "metadata": {},
   "outputs": [],
   "source": [
    "# Exercise : summation of 0 to 100 numbers using for loop"
   ]
  },
  {
   "cell_type": "code",
   "execution_count": null,
   "metadata": {},
   "outputs": [],
   "source": [
    "# While - is used to repeating a section of code until a defined condition is no longer met \n",
    "i = 1\n",
    "\n",
    "while (i < 5) : \n",
    "    print( 'value ', i)\n",
    "    i +=1  \n",
    "    \n",
    "    \n",
    "#   break"
   ]
  },
  {
   "cell_type": "markdown",
   "metadata": {},
   "source": [
    "### String Common functions"
   ]
  },
  {
   "cell_type": "code",
   "execution_count": null,
   "metadata": {},
   "outputs": [],
   "source": [
    "# Strings    -  [ 'a', 'abc', 'text', '1']\n",
    "\n",
    "c = 'text'     # String literals can be enclosed by either double or single quote\n",
    "print(c)\n",
    "print(type(c))"
   ]
  },
  {
   "cell_type": "code",
   "execution_count": null,
   "metadata": {},
   "outputs": [],
   "source": [
    "str_1 = \"i don't know\"  # A double quoted string literal can contain single quotes and vice versa also\n",
    "str_1"
   ]
  },
  {
   "cell_type": "code",
   "execution_count": null,
   "metadata": {},
   "outputs": [],
   "source": [
    "# # String concatenation \n",
    "text1 = 'string-1      ' + 'string-2'\n",
    "print(text1)\n",
    "\n",
    "# String replcation\n",
    "text2 = 'string ' * 5\n",
    "print(text2)\n",
    "\n",
    "# "
   ]
  },
  {
   "cell_type": "code",
   "execution_count": null,
   "metadata": {},
   "outputs": [],
   "source": [
    "str_1 = 'test string'  # Characters in a string can be accessed using the standard [ ] syntax\n",
    "#print(len(str_1))  # 11 \n",
    "print(str_1[2])  # String 0th Indexing "
   ]
  },
  {
   "cell_type": "code",
   "execution_count": null,
   "metadata": {},
   "outputs": [],
   "source": [
    "# String Slicing - sub set\n",
    "\n",
    "str_1 = 'test string'\n",
    "#str_1[3]\n",
    "\n",
    "#str_1[1:4]       # slice s[start:end] - it includes the start index and exclude the end index  \n",
    "str_1[1:]     # slice from 1st index to end\n",
    "# str_1[:3]     # slice from begining and up to 3rd index (but not including)"
   ]
  },
  {
   "cell_type": "code",
   "execution_count": null,
   "metadata": {},
   "outputs": [],
   "source": [
    "# Common string methods  : calling methods on string object and return the results (OOP )\n",
    "\n",
    "str_1 = ' Test String '   \n",
    "\n",
    "#print(str_1.lower())      # returns the lowercase\n",
    "#print(str_1.upper())      # returns the Uppercase\n",
    "#print(str_1.lstrip())       # return a string with whitespacae removed from left\n",
    "#print(str_1.rstrip())     # return a string with whitespacae removed from right\n",
    "#print(str_1.strip())      # returns a string with whitespace removed from the start and end\n",
    "\n",
    "#str_1.startswith(' ') # tests if the str_1 start with space ' '\n",
    "str_1.endswith(' ') # tests if the str_1 end with space ' '"
   ]
  },
  {
   "cell_type": "code",
   "execution_count": null,
   "metadata": {},
   "outputs": [],
   "source": [
    "str_1 = 'Test String est est'\n",
    "#str_1.find('est')    # search for 'est' in the str_1 and returns the first index where it begins or -1 if not found\n",
    "\n",
    "#str_1.find('est', 5, 15)  # search witin a range\n",
    "\n",
    "#str_1.count('est')   # count the occurence of substring 'est' in whole string str_1\n",
    "\n",
    "#[i for i in range(len(str_1)) if str_1.startswith('est', i)] # all the occurences pos of substr"
   ]
  },
  {
   "cell_type": "code",
   "execution_count": null,
   "metadata": {},
   "outputs": [],
   "source": [
    "#str_1.replace('est', 'EST') # returns a string where all occurrences of 'est' have been replaced by 'EST'\n",
    "\n",
    "str_1.replace('est', 'EST', 1) # replace the first occurrence,  "
   ]
  },
  {
   "cell_type": "code",
   "execution_count": null,
   "metadata": {},
   "outputs": [],
   "source": [
    "# Exercise - In text_1,  (1) remove all the leading and trailing spaces (2) replace 1st occurence of 'string' with 'replaced'\n",
    "#                        (3) remove only leading spaces  (4) remove all the white spaces \n",
    "\n",
    "text_1 = \"  text string to check sub string functionality \"\n",
    "\n",
    "\n",
    "#text_1.replace(' ', '')"
   ]
  },
  {
   "cell_type": "code",
   "execution_count": null,
   "metadata": {},
   "outputs": [],
   "source": [
    "str_2 = 'Test1,Test2,Test3'\n",
    "#str_2.split(',')      # returns a list of substrings separated by the given delimiter.\n",
    "\n",
    "#str_2.split(',', maxsplit=1)     # at most maxsplits will be done\n",
    "\n",
    "\n",
    "# str_2 = 'Test1 Test2 Test3' # by default it will remove all the white space \n",
    "# str_2.split()"
   ]
  },
  {
   "cell_type": "code",
   "execution_count": null,
   "metadata": {},
   "outputs": [],
   "source": [
    "str_3 = \"test string\"\n",
    "str_3.capitalize()    # captialize the string\n",
    "#str_3.rjust(15)      # Right-justify a string, padding with spaces\n",
    "#str_3.ljust(15)      # left justtify a string, padding with spaces\n",
    "#str_3.center(15)     # center a string, padding with spaces\n",
    "\n",
    "# more details on string can be found - \n",
    "#  https://docs.python.org/3.6/library/stdtypes.html#string-methods\n"
   ]
  },
  {
   "cell_type": "markdown",
   "metadata": {},
   "source": [
    "####  Containers : Data Structures"
   ]
  },
  {
   "cell_type": "code",
   "execution_count": null,
   "metadata": {},
   "outputs": [],
   "source": [
    "# Containers : data Structures\n",
    "#\n",
    "# List  - mutable element , ([] - Square Bracket)\n",
    "# tuple - immutable element , ( () - Paranthesis)\n",
    "# dictionaries - stores map from one type of object to another type of object , ( {} - Curly Barcket)\n",
    "# key - value\n",
    "# key - immutable types (string, number, tuple)"
   ]
  },
  {
   "cell_type": "code",
   "execution_count": null,
   "metadata": {},
   "outputs": [],
   "source": [
    "# List - ([] - Square Bracket) - Support indexing and slicing\n",
    "\n",
    "list_1 = ['abc', 34.1, 10, True]   # list is a sequence of values with differrent datatypes.\n",
    "#print(list_1)\n",
    "\n",
    "#print(list_1[0])    # 0th index\n",
    "# print(list_1[2])    # 2nd index\n",
    "#print(list_1[-1])   # from last 1st index\n",
    "# print(list_1[-3])\n",
    "\n",
    "#type(list_1)\n"
   ]
  },
  {
   "cell_type": "code",
   "execution_count": null,
   "metadata": {},
   "outputs": [],
   "source": [
    "# list slicing\n",
    "list_3 = [1,9,8,4,5,6,3,2,10]\n",
    "\n",
    "print(list_3[1:6]) # start from 1st index ends at 5th index but does not include the last index(so till 4th index)\n",
    "# print(list_3[:5])  # start from 0th index ends at 4th index\n",
    "# print(list_3[2:])  # start from 2nd till end\n",
    "\n",
    "# print(len(list_3)) # pring the length of list_3"
   ]
  },
  {
   "cell_type": "code",
   "execution_count": null,
   "metadata": {},
   "outputs": [],
   "source": [
    "list_3.sort()  # Ascending order \n",
    "list_3\n",
    "\n",
    "# list_3.sort(reverse=True)\n",
    "# list_3"
   ]
  },
  {
   "cell_type": "code",
   "execution_count": null,
   "metadata": {},
   "outputs": [],
   "source": [
    "# List Update\n",
    "list_3[2]='changed'   # 2nd index = 3 will get replaced with 'changed'\n",
    "print(list_3)\n"
   ]
  },
  {
   "cell_type": "code",
   "execution_count": null,
   "metadata": {},
   "outputs": [],
   "source": [
    "# List Append\n",
    "list_3.append('string')  # add the element at the end of list\n",
    "list_3"
   ]
  },
  {
   "cell_type": "code",
   "execution_count": null,
   "metadata": {},
   "outputs": [],
   "source": [
    "# List Insert\n",
    "list_3.insert(2, 100)  # insert a new value 100 at 2nd index\n",
    "list_3"
   ]
  },
  {
   "cell_type": "code",
   "execution_count": null,
   "metadata": {},
   "outputs": [],
   "source": [
    "# remove item in a list based on idex\n",
    "\n",
    "del list_3[1]\n",
    "list_3     \n",
    "\n",
    "#del list_3[2:6]\n",
    "#del list_3"
   ]
  },
  {
   "cell_type": "code",
   "execution_count": null,
   "metadata": {},
   "outputs": [],
   "source": [
    "list_3"
   ]
  },
  {
   "cell_type": "code",
   "execution_count": null,
   "metadata": {},
   "outputs": [],
   "source": [
    "# List pop() - removing the list items \n",
    "list_3.pop()   # last item will be removed"
   ]
  },
  {
   "cell_type": "code",
   "execution_count": null,
   "metadata": {},
   "outputs": [],
   "source": [
    "list_3  # poped list- list item was removed"
   ]
  },
  {
   "cell_type": "code",
   "execution_count": null,
   "metadata": {},
   "outputs": [],
   "source": [
    "list_3.pop(1)  # remove the item based on list index"
   ]
  },
  {
   "cell_type": "code",
   "execution_count": null,
   "metadata": {},
   "outputs": [],
   "source": [
    "list_3"
   ]
  },
  {
   "cell_type": "code",
   "execution_count": null,
   "metadata": {},
   "outputs": [],
   "source": [
    "# list.remove()   # remove the first occurence of item value\n",
    "list_3.remove(4)  # item value 4 gets removed"
   ]
  },
  {
   "cell_type": "code",
   "execution_count": null,
   "metadata": {},
   "outputs": [],
   "source": [
    "list_3"
   ]
  },
  {
   "cell_type": "code",
   "execution_count": null,
   "metadata": {},
   "outputs": [],
   "source": [
    "# list_3.append(9)\n",
    "# print(list_3)\n",
    "# list_3.remove(9) # will remove only the first occurene of 9\n",
    "# print(list_3)"
   ]
  },
  {
   "cell_type": "markdown",
   "metadata": {},
   "source": [
    "#### List iterables"
   ]
  },
  {
   "cell_type": "code",
   "execution_count": null,
   "metadata": {},
   "outputs": [],
   "source": [
    "# we can use any iterables for loop\n",
    "\n",
    "# List iterables\n",
    "list_1 = ['abc', 34.1, 10, True]\n",
    "\n",
    "for x in list_1:\n",
    "    print(x) \n"
   ]
  },
  {
   "cell_type": "code",
   "execution_count": null,
   "metadata": {},
   "outputs": [],
   "source": [
    "# Exercise \n",
    "list_test = ['a',1,'b','c','d',2,3,4,5, 10.5]  # Get all the numeric values from the list_test"
   ]
  },
  {
   "cell_type": "code",
   "execution_count": null,
   "metadata": {},
   "outputs": [],
   "source": [
    "type(list_test[1])\n",
    "#isinstance(list_test[1],int)"
   ]
  },
  {
   "cell_type": "code",
   "execution_count": null,
   "metadata": {},
   "outputs": [],
   "source": [
    "# isinstance(True,int)\n",
    "# if type(i) is not int:"
   ]
  },
  {
   "cell_type": "code",
   "execution_count": null,
   "metadata": {},
   "outputs": [],
   "source": [
    "# Exercise :  nums = [1, 2, 3, 4, 5]\n",
    "\n",
    "# get the squared value for each item in the nums list.\n",
    "# get the squared value for items in the nums list for only even numbers."
   ]
  },
  {
   "cell_type": "markdown",
   "metadata": {},
   "source": [
    "#### List Compression "
   ]
  },
  {
   "cell_type": "code",
   "execution_count": null,
   "metadata": {},
   "outputs": [],
   "source": [
    "nums = [1, 2, 3, 4, 5]\n",
    "\n",
    "[x**2 for x in nums if x%2==0 ]\n",
    "\n",
    "#[x**2 for x in nums if x%2==0 ]"
   ]
  },
  {
   "cell_type": "code",
   "execution_count": null,
   "metadata": {},
   "outputs": [],
   "source": [
    "# String iterables \n",
    "string = \"Testing\"\n",
    "for x in string:\n",
    "     print(x)\n",
    "    \n",
    "#    print(x, end=' ')"
   ]
  },
  {
   "cell_type": "markdown",
   "metadata": {},
   "source": [
    "#### Tuples - An immutable ordered list of values"
   ]
  },
  {
   "cell_type": "code",
   "execution_count": null,
   "metadata": {},
   "outputs": [],
   "source": [
    "# Tuple: ( () - Paranthesis ) ,  create tuple by just putting comma seperated values.\n",
    "tup_test = (\"name\", \"address\", 1, '2', '3','True')\n",
    "tup_test\n",
    "#type(tup_test)"
   ]
  },
  {
   "cell_type": "code",
   "execution_count": null,
   "metadata": {},
   "outputs": [],
   "source": [
    "# select the 1st item in tup_test\n",
    "tup_test[0]"
   ]
  },
  {
   "cell_type": "code",
   "execution_count": null,
   "metadata": {},
   "outputs": [],
   "source": [
    "# tuple is immutable, data values can not be updated\n",
    "tup_test[0] = 'changed values'  # trying to update the 1st element, will give error.\n",
    "\n",
    "\n",
    "# tuples can be used as a dictionary keys that are in immutable nature."
   ]
  },
  {
   "cell_type": "code",
   "execution_count": null,
   "metadata": {},
   "outputs": [],
   "source": [
    "#sorted(tup_test)"
   ]
  },
  {
   "cell_type": "code",
   "execution_count": null,
   "metadata": {},
   "outputs": [],
   "source": [
    "# tuple can concatenate with another tuple\n",
    "tup_test = tup_test + ('new-value',)\n",
    "tup_test"
   ]
  },
  {
   "cell_type": "code",
   "execution_count": null,
   "metadata": {},
   "outputs": [],
   "source": [
    "tup1 = (4, 3, 5, 7)\n",
    "sorted(tup1)\n",
    "#sorted(tup1, reverse=True)"
   ]
  },
  {
   "cell_type": "markdown",
   "metadata": {},
   "source": [
    "####  Dictionary"
   ]
  },
  {
   "cell_type": "code",
   "execution_count": null,
   "metadata": {},
   "outputs": [],
   "source": [
    "# Dictionary: ( {} - Curly Barcket) - allow to quicly select an item withou knowing the index, just use the key and get the value.\n",
    "\n",
    "# Use {} curly brackets to construct the dictionary.\n",
    "# A dictionary maps a set of objects (keys) to another set of objects (values).\n",
    "\n",
    "# Key, Value and item in Dictionary\n",
    "test_dict = {'age':30, 'color':'white', 'hieght':6.5}\n",
    "test_dict"
   ]
  },
  {
   "cell_type": "code",
   "execution_count": null,
   "metadata": {},
   "outputs": [],
   "source": [
    "test_dict.items()"
   ]
  },
  {
   "cell_type": "code",
   "execution_count": null,
   "metadata": {},
   "outputs": [],
   "source": [
    "test_dict.keys()  # list of all the keys in dictionary"
   ]
  },
  {
   "cell_type": "code",
   "execution_count": null,
   "metadata": {},
   "outputs": [],
   "source": [
    "test_dict.values()"
   ]
  },
  {
   "cell_type": "code",
   "execution_count": null,
   "metadata": {},
   "outputs": [],
   "source": [
    "# selecting value for a key\n",
    "test_dict['age']  # value for Key 'age' is 30"
   ]
  },
  {
   "cell_type": "code",
   "execution_count": null,
   "metadata": {},
   "outputs": [],
   "source": [
    "print ('age' in test_dict)  # Check if a dictionary has a given key"
   ]
  },
  {
   "cell_type": "code",
   "execution_count": null,
   "metadata": {},
   "outputs": [],
   "source": [
    "test_dict['salary'] = 100000  # ading a new entry, set an entry in dictionary\n",
    "test_dict"
   ]
  },
  {
   "cell_type": "code",
   "execution_count": null,
   "metadata": {},
   "outputs": [],
   "source": [
    "del test_dict['salary']  # deleting a key\n",
    "test_dict"
   ]
  },
  {
   "cell_type": "code",
   "execution_count": null,
   "metadata": {},
   "outputs": [],
   "source": [
    "test_dict.get('age', 'N/A')  # get an element with a default"
   ]
  },
  {
   "cell_type": "code",
   "execution_count": null,
   "metadata": {},
   "outputs": [],
   "source": [
    "test_dict.get('key1', 'N/A')  # get an element with a default"
   ]
  },
  {
   "cell_type": "code",
   "execution_count": null,
   "metadata": {},
   "outputs": [],
   "source": [
    "# key part in dictionary\n",
    "for k in test_dict.keys():\n",
    "    print(k)"
   ]
  },
  {
   "cell_type": "code",
   "execution_count": null,
   "metadata": {},
   "outputs": [],
   "source": [
    "# value part in dictionary\n",
    "for v in test_dict.values():\n",
    "    print(v)"
   ]
  },
  {
   "cell_type": "code",
   "execution_count": null,
   "metadata": {},
   "outputs": [],
   "source": [
    "# items in dictionary\n",
    "for i in test_dict.items():\n",
    "    print(i)"
   ]
  },
  {
   "cell_type": "code",
   "execution_count": null,
   "metadata": {},
   "outputs": [],
   "source": [
    "# Dictionary can have another list or dictionary as item\n",
    "dict_2 = {'key1':10, 'key2':[1,2,3], 'key3':{'k1':1, 'k2':2}}"
   ]
  },
  {
   "cell_type": "code",
   "execution_count": null,
   "metadata": {},
   "outputs": [],
   "source": [
    "dict_2['key2']"
   ]
  },
  {
   "cell_type": "code",
   "execution_count": null,
   "metadata": {},
   "outputs": [],
   "source": [
    "dict_2['key2'][0]"
   ]
  },
  {
   "cell_type": "code",
   "execution_count": null,
   "metadata": {},
   "outputs": [],
   "source": [
    "dict_2['key3']['k2']"
   ]
  },
  {
   "cell_type": "markdown",
   "metadata": {},
   "source": [
    "#### Functions (UDFS)"
   ]
  },
  {
   "cell_type": "code",
   "execution_count": null,
   "metadata": {},
   "outputs": [],
   "source": [
    "# User Defined Functions - to execute the repeatable code multiple times without rewriting the same code many times.\n",
    "\n",
    "# printing name function, returing value\n",
    "\n",
    "def hello_fun2(name):                           # name is a parameter\n",
    "    print('Input : ', name)         \n",
    "    return(len(name))                           # return the final value to the calling function\n"
   ]
  },
  {
   "cell_type": "code",
   "execution_count": null,
   "metadata": {},
   "outputs": [],
   "source": [
    "# Calling function \n",
    "hello_fun2('Shyam')"
   ]
  },
  {
   "cell_type": "code",
   "execution_count": null,
   "metadata": {},
   "outputs": [],
   "source": [
    "# Exercise : Addition functoin to add two numbers a & b and reurn the 75% of total sum\n",
    "# Exercise : Sign Function to return the Number sign"
   ]
  },
  {
   "cell_type": "markdown",
   "metadata": {},
   "source": [
    "#### *arg - passing multple arguments in the form of tuples()"
   ]
  },
  {
   "cell_type": "code",
   "execution_count": null,
   "metadata": {},
   "outputs": [],
   "source": [
    "def add_func1(a,b,c=0,d=0):\n",
    "    return(a+b+c)"
   ]
  },
  {
   "cell_type": "code",
   "execution_count": null,
   "metadata": {},
   "outputs": [],
   "source": [
    "add_func1(10,20,40,60)"
   ]
  },
  {
   "cell_type": "code",
   "execution_count": null,
   "metadata": {},
   "outputs": [],
   "source": [
    "def add_func2(*args):       # args will be passed in the form of tuples (a,b,c,d)\n",
    "    print(args)\n",
    "    return(sum(args))\n",
    "    "
   ]
  },
  {
   "cell_type": "code",
   "execution_count": null,
   "metadata": {},
   "outputs": [],
   "source": [
    "add_func2(10,20,30,40,50,60,70)"
   ]
  },
  {
   "cell_type": "code",
   "execution_count": null,
   "metadata": {},
   "outputs": [],
   "source": [
    "# Exercise - Write a function with *args parms to return the multiplication product of all the input paramters passed"
   ]
  },
  {
   "cell_type": "code",
   "execution_count": null,
   "metadata": {},
   "outputs": [],
   "source": [
    "# multiplication fucntion\n",
    "\n",
    "def mult_5(a):\n",
    "    return(5*a)"
   ]
  },
  {
   "cell_type": "code",
   "execution_count": null,
   "metadata": {},
   "outputs": [],
   "source": [
    "mult_5(20)"
   ]
  },
  {
   "cell_type": "code",
   "execution_count": null,
   "metadata": {},
   "outputs": [],
   "source": [
    "# multiplication fucntion  - Added with Docstring - that has information about function\n",
    "\n",
    "def mult_5(a):\n",
    "    '''\n",
    "    Docstring: information about the function - multiply by 5\n",
    "    Input : var1 \n",
    "    Output: var1 multiplied by 5\n",
    "    \n",
    "    '''\n",
    "    return(5*a)"
   ]
  },
  {
   "cell_type": "code",
   "execution_count": null,
   "metadata": {},
   "outputs": [],
   "source": [
    "mult_5(20)"
   ]
  },
  {
   "cell_type": "code",
   "execution_count": null,
   "metadata": {},
   "outputs": [],
   "source": [
    "# Exercise :  apply a function (multiply) over the input \n",
    "list_2 = [1, 2, 3, 4, 5]\n",
    "\n",
    "#           (1) - using for loop      #####                                                 - list_3.append(mult_5(i))\n",
    "#           (2) - List compression    #####                                                 - mult_5(i) for i in list_2"
   ]
  },
  {
   "cell_type": "markdown",
   "metadata": {},
   "source": [
    "#### map() - built in function to map a function to iterators\n",
    "-  it takes in a function and an iterable (x) and then returns another iterable"
   ]
  },
  {
   "cell_type": "code",
   "execution_count": null,
   "metadata": {},
   "outputs": [],
   "source": [
    "list_2 = [1, 2, 3, 4, 5]"
   ]
  },
  {
   "cell_type": "code",
   "execution_count": null,
   "metadata": {},
   "outputs": [],
   "source": [
    "#map(mult_5, list_2)\n",
    "list(map(mult_5, list_2))  # transform the map into list"
   ]
  },
  {
   "cell_type": "markdown",
   "metadata": {},
   "source": [
    "#### Lambda expression - Anonymous function"
   ]
  },
  {
   "cell_type": "code",
   "execution_count": null,
   "metadata": {},
   "outputs": [],
   "source": [
    "def mult_5(a):\n",
    "    return(5*a)\n",
    "\n",
    "# def mult_5(a):return(5*a)"
   ]
  },
  {
   "cell_type": "code",
   "execution_count": null,
   "metadata": {},
   "outputs": [],
   "source": [
    "mult_5(6)"
   ]
  },
  {
   "cell_type": "code",
   "execution_count": null,
   "metadata": {},
   "outputs": [],
   "source": [
    "t = lambda a : 5*a  "
   ]
  },
  {
   "cell_type": "code",
   "execution_count": null,
   "metadata": {},
   "outputs": [],
   "source": [
    "t(3)"
   ]
  },
  {
   "cell_type": "code",
   "execution_count": null,
   "metadata": {},
   "outputs": [],
   "source": [
    "# Exercise : Write a lamda addition function to add two number a, b"
   ]
  },
  {
   "cell_type": "code",
   "execution_count": null,
   "metadata": {},
   "outputs": [],
   "source": [
    "list_2 = [1, 2, 3, 4, 5, 6]"
   ]
  },
  {
   "cell_type": "code",
   "execution_count": null,
   "metadata": {},
   "outputs": [],
   "source": [
    "# Lambda map() - no need to create the function seperately\n",
    "\n",
    "list( map(lambda a : 5*a , list_2))\n"
   ]
  },
  {
   "cell_type": "code",
   "execution_count": null,
   "metadata": {},
   "outputs": [],
   "source": [
    "## Exercise, Addition of two list using map() lambda\n",
    "list_a = [1, 2, 3, 4, 5]\n",
    "list_b = [6, 7, 8, 9, 10]"
   ]
  },
  {
   "cell_type": "code",
   "execution_count": null,
   "metadata": {},
   "outputs": [],
   "source": [
    "t = lambda a, b : a+b"
   ]
  },
  {
   "cell_type": "code",
   "execution_count": null,
   "metadata": {},
   "outputs": [],
   "source": [
    "list_a + list_b"
   ]
  },
  {
   "cell_type": "markdown",
   "metadata": {},
   "source": [
    "#### Filter() -   Filter(function, seq) => filter the seq for which function() returns True\n"
   ]
  },
  {
   "cell_type": "code",
   "execution_count": null,
   "metadata": {},
   "outputs": [],
   "source": [
    "# Exercise - filter odd numbers - list_4 = [1, 2, 3, 4, 5, 6]\n",
    "\n",
    "# list(map(lambda a, b : a+b, list_a, list_b))"
   ]
  },
  {
   "cell_type": "code",
   "execution_count": null,
   "metadata": {},
   "outputs": [],
   "source": [
    "list_4 = [1, 2, 3, 4, 5, 6]"
   ]
  },
  {
   "cell_type": "code",
   "execution_count": null,
   "metadata": {},
   "outputs": [],
   "source": [
    "def odd_func(x):\n",
    "    if x%2==1:\n",
    "        return x"
   ]
  },
  {
   "cell_type": "code",
   "execution_count": null,
   "metadata": {},
   "outputs": [],
   "source": [
    "odd_func(3)"
   ]
  },
  {
   "cell_type": "code",
   "execution_count": null,
   "metadata": {},
   "outputs": [],
   "source": [
    "list(map(odd_func, list_4))"
   ]
  },
  {
   "cell_type": "code",
   "execution_count": null,
   "metadata": {},
   "outputs": [],
   "source": [
    "list(filter(odd_func, list_4))"
   ]
  },
  {
   "cell_type": "code",
   "execution_count": null,
   "metadata": {},
   "outputs": [],
   "source": [
    "#list(filter(lambda x : x%2==1 , list_4)) #"
   ]
  },
  {
   "cell_type": "markdown",
   "metadata": {},
   "source": [
    "# heading "
   ]
  },
  {
   "cell_type": "markdown",
   "metadata": {},
   "source": [
    "# Heading \n",
    "#### Heading-2 \n",
    "- point-1\n",
    "- point-2"
   ]
  },
  {
   "cell_type": "markdown",
   "metadata": {},
   "source": [
    "##### Headerar-1  - Markdown formatting \n",
    "\n",
    "## Headear-2\n",
    "\n",
    "### Header-3\n",
    " 1. c**point**-1\n",
    " 2. point-4\n",
    "\n",
    "#### Header-4\n",
    "- text-1\n",
    "- text-2"
   ]
  },
  {
   "cell_type": "code",
   "execution_count": null,
   "metadata": {},
   "outputs": [],
   "source": [
    "# Help\n",
    "# (i) H\n",
    "# (ii) ctrl + shift + P"
   ]
  },
  {
   "cell_type": "code",
   "execution_count": null,
   "metadata": {},
   "outputs": [],
   "source": []
  }
 ],
 "metadata": {
  "kernelspec": {
   "display_name": "Python 3",
   "language": "python",
   "name": "python3"
  },
  "language_info": {
   "codemirror_mode": {
    "name": "ipython",
    "version": 3
   },
   "file_extension": ".py",
   "mimetype": "text/x-python",
   "name": "python",
   "nbconvert_exporter": "python",
   "pygments_lexer": "ipython3",
   "version": "3.7.1"
  }
 },
 "nbformat": 4,
 "nbformat_minor": 2
}
